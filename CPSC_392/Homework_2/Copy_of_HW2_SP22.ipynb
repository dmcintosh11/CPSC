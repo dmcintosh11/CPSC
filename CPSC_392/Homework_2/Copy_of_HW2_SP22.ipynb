{
  "cells": [
    {
      "cell_type": "markdown",
      "metadata": {
        "id": "WpRKg4ScTCvG"
      },
      "source": [
        "# HW2\n",
        "\n",
        "## GENERAL INSTRUCTIONS:\n",
        "\n",
        "- CLEARLY mark where you are answering each question (all questions must be answered in Markdown cells, NOT as comments in code cells)\n",
        "- Show all code necessary for the analysis, but remove superfluous code\n",
        "- Check that your final PDF does not have code/markdown cutoff\n",
        "\n",
        "---\n",
        "\n",
        "Use the [Loan Dataset](https://raw.githubusercontent.com/cmparlettpelleriti/CPSC392ParlettPelleriti/master/Data/HW2.csv) on GitHub to build the classification models described below.\n",
        "\n",
        "## Variable Descriptions:\n",
        "- `age`: age in years of person.\n",
        "- `had_cancer`: 0 if the person has NOT had cancer or has cancer, 1 if they have.\n",
        "- `gender_id`: `Male`, `Female`, `Non-Binary`, or `Survey Choices Do Not Accurately Reflect My Identity`.\n",
        "- `income_in_k`: income in thousands of dollars.\n",
        "- `state`: state person lives in.\n",
        "- `credit_score`: credit score.\n",
        "- `num_credit_sources`: number of sources of credit (includes credit cards, loans, car payments...etc).\n",
        "- `utilization_rate`: the % of a person's total credit they use on average each month. For example if you have 10,000 dollars in available credit, and use 2,000 your utilization rate would be 0.2 (20%).\n",
        "- `gave_loan`: whether or not the person got a loan.\n",
        "\n",
        "## Instructions\n",
        "1. *Build a KNN, Decision Tree, AND Logistic Regression model to predict whether or not someone got a loan using all the other variables.*\n",
        "    - If a variable/predictor has more than 2 categories, use `get_dummies()` to convert them into dummy variables (don't forget to remove the original column when training! see [here](https://github.com/cmparlettpelleriti/CPSC392ParlettPelleriti/blob/master/Extras/get_dummies.ipynb)).\n",
        "    - use the `train_test_split()` to do an 80/20 split (make sure to use the SAME split when training all 3 models, do not re-split your data. We want each model to be trained on the same training set).\n",
        "    - Appropriately z-score your continuous variables only (interval data like age...etc can be counted as continuous)\n",
        "    - For KNN, include only *continuous/interval* columns as predictors. For Decision Tree and Logistic Regression use ALL columns (other than `gave_loan`).\n",
        "    - For KNN, choose K by using `GridSearchCV`.\n",
        "    - For Decision Trees, use `GridSearchCV` to choose max_depth, and make sure to check for overfitting.\n",
        "    - Record the Train/Test accuracies, and print out confusion matrices for both train and test.\n",
        "    \n",
        "    \n",
        "2. *Evaluate Your Models (WRITE YOUR ANSWER IN MARKDOWN CELL)*\n",
        "    - A) Using accuracy AND confusion matrices, **thoroughly discuss which model did best (if you had to pick one), how can you tell?**\n",
        "    - B) **Are there differences in how accurate each of the three models you made in part 1 are for different gender IDs?** (do NOT build a new model for this question. This is simply asking whether any of our models are more accurate when applied to different gender groups, regardless of whether gender was used in the model. If it helps, imagine you're about to deploy this model in the real world, and your boss asks whether the model is biased against/for certain gender groups).\n",
        "    - C) **Are your models better at predicting people who got loans, or didn't get loans? How can you tell? Discuss thoroughly the possible implications of this.**"
      ]
    },
    {
      "cell_type": "markdown",
      "source": [
        "# 1."
      ],
      "metadata": {
        "id": "rE2-SvmYTEYz"
      }
    },
    {
      "cell_type": "code",
      "source": [
        "import warnings\n",
        "warnings.filterwarnings('ignore')\n",
        "\n",
        "\n",
        "import pandas as pd\n",
        "import numpy as np\n",
        "from plotnine import *\n",
        "\n",
        "import matplotlib.pyplot as plt\n",
        "\n",
        "from sklearn.neighbors import KNeighborsClassifier\n",
        "from sklearn.tree import DecisionTreeClassifier\n",
        "from sklearn.linear_model import LogisticRegression\n",
        "from sklearn.model_selection import train_test_split\n",
        "\n",
        "from sklearn import metrics \n",
        "from sklearn.preprocessing import StandardScaler #Z-score variables\n",
        "\n",
        "from sklearn.model_selection import train_test_split # simple TT split cv\n",
        "from sklearn.model_selection import KFold # k-fold cv\n",
        "from sklearn.model_selection import LeaveOneOut #LOO cv\n",
        "from sklearn.model_selection import cross_val_score # cross validation metrics\n",
        "from sklearn.model_selection import cross_val_predict # cross validation metrics\n",
        "from sklearn.metrics import accuracy_score, confusion_matrix\n",
        "from sklearn.metrics import plot_confusion_matrix\n",
        "from sklearn.pipeline import make_pipeline\n",
        "from sklearn.compose import make_column_transformer\n",
        "\n",
        "from sklearn.model_selection import GridSearchCV\n",
        "\n",
        "%precision %.7g\n",
        "%matplotlib inline\n",
        "\n",
        "loan = pd.read_csv(\"https://raw.githubusercontent.com/cmparlettpelleriti/CPSC392ParlettPelleriti/master/Data/HW2.csv\")\n",
        "loan.head()"
      ],
      "metadata": {
        "id": "lrkxMPjlTE0B",
        "colab": {
          "base_uri": "https://localhost:8080/",
          "height": 204
        },
        "outputId": "1438b8a3-70c9-46f6-d69f-a785195b9692"
      },
      "execution_count": 28,
      "outputs": [
        {
          "output_type": "execute_result",
          "data": {
            "text/plain": [
              "   age  had_cancer gender_id  income_in_k state  credit_score  \\\n",
              "0   39           0    Female           54    TX           448   \n",
              "1   43           0    Female           66    NJ           399   \n",
              "2   42           0      Male           50    NE           509   \n",
              "3   46           0    Female           79    TX           540   \n",
              "4   43           0    Female           49    NV           485   \n",
              "\n",
              "   num_credit_sources  utilization_rate  gave_loan  \n",
              "0                   4              0.32          0  \n",
              "1                   4              0.35          0  \n",
              "2                   8              0.23          0  \n",
              "3                   6              0.15          0  \n",
              "4                  10              0.20          0  "
            ],
            "text/html": [
              "\n",
              "  <div id=\"df-fea8d628-fd31-4a0c-b109-886b4e89fbc1\">\n",
              "    <div class=\"colab-df-container\">\n",
              "      <div>\n",
              "<style scoped>\n",
              "    .dataframe tbody tr th:only-of-type {\n",
              "        vertical-align: middle;\n",
              "    }\n",
              "\n",
              "    .dataframe tbody tr th {\n",
              "        vertical-align: top;\n",
              "    }\n",
              "\n",
              "    .dataframe thead th {\n",
              "        text-align: right;\n",
              "    }\n",
              "</style>\n",
              "<table border=\"1\" class=\"dataframe\">\n",
              "  <thead>\n",
              "    <tr style=\"text-align: right;\">\n",
              "      <th></th>\n",
              "      <th>age</th>\n",
              "      <th>had_cancer</th>\n",
              "      <th>gender_id</th>\n",
              "      <th>income_in_k</th>\n",
              "      <th>state</th>\n",
              "      <th>credit_score</th>\n",
              "      <th>num_credit_sources</th>\n",
              "      <th>utilization_rate</th>\n",
              "      <th>gave_loan</th>\n",
              "    </tr>\n",
              "  </thead>\n",
              "  <tbody>\n",
              "    <tr>\n",
              "      <th>0</th>\n",
              "      <td>39</td>\n",
              "      <td>0</td>\n",
              "      <td>Female</td>\n",
              "      <td>54</td>\n",
              "      <td>TX</td>\n",
              "      <td>448</td>\n",
              "      <td>4</td>\n",
              "      <td>0.32</td>\n",
              "      <td>0</td>\n",
              "    </tr>\n",
              "    <tr>\n",
              "      <th>1</th>\n",
              "      <td>43</td>\n",
              "      <td>0</td>\n",
              "      <td>Female</td>\n",
              "      <td>66</td>\n",
              "      <td>NJ</td>\n",
              "      <td>399</td>\n",
              "      <td>4</td>\n",
              "      <td>0.35</td>\n",
              "      <td>0</td>\n",
              "    </tr>\n",
              "    <tr>\n",
              "      <th>2</th>\n",
              "      <td>42</td>\n",
              "      <td>0</td>\n",
              "      <td>Male</td>\n",
              "      <td>50</td>\n",
              "      <td>NE</td>\n",
              "      <td>509</td>\n",
              "      <td>8</td>\n",
              "      <td>0.23</td>\n",
              "      <td>0</td>\n",
              "    </tr>\n",
              "    <tr>\n",
              "      <th>3</th>\n",
              "      <td>46</td>\n",
              "      <td>0</td>\n",
              "      <td>Female</td>\n",
              "      <td>79</td>\n",
              "      <td>TX</td>\n",
              "      <td>540</td>\n",
              "      <td>6</td>\n",
              "      <td>0.15</td>\n",
              "      <td>0</td>\n",
              "    </tr>\n",
              "    <tr>\n",
              "      <th>4</th>\n",
              "      <td>43</td>\n",
              "      <td>0</td>\n",
              "      <td>Female</td>\n",
              "      <td>49</td>\n",
              "      <td>NV</td>\n",
              "      <td>485</td>\n",
              "      <td>10</td>\n",
              "      <td>0.20</td>\n",
              "      <td>0</td>\n",
              "    </tr>\n",
              "  </tbody>\n",
              "</table>\n",
              "</div>\n",
              "      <button class=\"colab-df-convert\" onclick=\"convertToInteractive('df-fea8d628-fd31-4a0c-b109-886b4e89fbc1')\"\n",
              "              title=\"Convert this dataframe to an interactive table.\"\n",
              "              style=\"display:none;\">\n",
              "        \n",
              "  <svg xmlns=\"http://www.w3.org/2000/svg\" height=\"24px\"viewBox=\"0 0 24 24\"\n",
              "       width=\"24px\">\n",
              "    <path d=\"M0 0h24v24H0V0z\" fill=\"none\"/>\n",
              "    <path d=\"M18.56 5.44l.94 2.06.94-2.06 2.06-.94-2.06-.94-.94-2.06-.94 2.06-2.06.94zm-11 1L8.5 8.5l.94-2.06 2.06-.94-2.06-.94L8.5 2.5l-.94 2.06-2.06.94zm10 10l.94 2.06.94-2.06 2.06-.94-2.06-.94-.94-2.06-.94 2.06-2.06.94z\"/><path d=\"M17.41 7.96l-1.37-1.37c-.4-.4-.92-.59-1.43-.59-.52 0-1.04.2-1.43.59L10.3 9.45l-7.72 7.72c-.78.78-.78 2.05 0 2.83L4 21.41c.39.39.9.59 1.41.59.51 0 1.02-.2 1.41-.59l7.78-7.78 2.81-2.81c.8-.78.8-2.07 0-2.86zM5.41 20L4 18.59l7.72-7.72 1.47 1.35L5.41 20z\"/>\n",
              "  </svg>\n",
              "      </button>\n",
              "      \n",
              "  <style>\n",
              "    .colab-df-container {\n",
              "      display:flex;\n",
              "      flex-wrap:wrap;\n",
              "      gap: 12px;\n",
              "    }\n",
              "\n",
              "    .colab-df-convert {\n",
              "      background-color: #E8F0FE;\n",
              "      border: none;\n",
              "      border-radius: 50%;\n",
              "      cursor: pointer;\n",
              "      display: none;\n",
              "      fill: #1967D2;\n",
              "      height: 32px;\n",
              "      padding: 0 0 0 0;\n",
              "      width: 32px;\n",
              "    }\n",
              "\n",
              "    .colab-df-convert:hover {\n",
              "      background-color: #E2EBFA;\n",
              "      box-shadow: 0px 1px 2px rgba(60, 64, 67, 0.3), 0px 1px 3px 1px rgba(60, 64, 67, 0.15);\n",
              "      fill: #174EA6;\n",
              "    }\n",
              "\n",
              "    [theme=dark] .colab-df-convert {\n",
              "      background-color: #3B4455;\n",
              "      fill: #D2E3FC;\n",
              "    }\n",
              "\n",
              "    [theme=dark] .colab-df-convert:hover {\n",
              "      background-color: #434B5C;\n",
              "      box-shadow: 0px 1px 3px 1px rgba(0, 0, 0, 0.15);\n",
              "      filter: drop-shadow(0px 1px 2px rgba(0, 0, 0, 0.3));\n",
              "      fill: #FFFFFF;\n",
              "    }\n",
              "  </style>\n",
              "\n",
              "      <script>\n",
              "        const buttonEl =\n",
              "          document.querySelector('#df-fea8d628-fd31-4a0c-b109-886b4e89fbc1 button.colab-df-convert');\n",
              "        buttonEl.style.display =\n",
              "          google.colab.kernel.accessAllowed ? 'block' : 'none';\n",
              "\n",
              "        async function convertToInteractive(key) {\n",
              "          const element = document.querySelector('#df-fea8d628-fd31-4a0c-b109-886b4e89fbc1');\n",
              "          const dataTable =\n",
              "            await google.colab.kernel.invokeFunction('convertToInteractive',\n",
              "                                                     [key], {});\n",
              "          if (!dataTable) return;\n",
              "\n",
              "          const docLinkHtml = 'Like what you see? Visit the ' +\n",
              "            '<a target=\"_blank\" href=https://colab.research.google.com/notebooks/data_table.ipynb>data table notebook</a>'\n",
              "            + ' to learn more about interactive tables.';\n",
              "          element.innerHTML = '';\n",
              "          dataTable['output_type'] = 'display_data';\n",
              "          await google.colab.output.renderOutput(dataTable, element);\n",
              "          const docLink = document.createElement('div');\n",
              "          docLink.innerHTML = docLinkHtml;\n",
              "          element.appendChild(docLink);\n",
              "        }\n",
              "      </script>\n",
              "    </div>\n",
              "  </div>\n",
              "  "
            ]
          },
          "metadata": {},
          "execution_count": 28
        }
      ]
    },
    {
      "cell_type": "markdown",
      "source": [
        "## Setting up dummy variables"
      ],
      "metadata": {
        "id": "6tTpS6sKb9lq"
      }
    },
    {
      "cell_type": "code",
      "source": [
        "stateDummies = pd.get_dummies(loan[\"state\"])\n",
        "genderDummies = pd.get_dummies(loan[\"gender_id\"])\n",
        "\n",
        "loan = pd.concat([loan, genderDummies, stateDummies], axis = 1)\n",
        "\n",
        "loan = loan.drop(\"state\", 1)\n",
        "loan = loan.drop(\"gender_id\", 1)\n",
        "\n",
        "\n",
        "loan.columns"
      ],
      "metadata": {
        "colab": {
          "base_uri": "https://localhost:8080/"
        },
        "id": "wOh0sB-Qn7g7",
        "outputId": "b25ba7b2-d6af-4a20-9ac5-7b59141c237c"
      },
      "execution_count": 29,
      "outputs": [
        {
          "output_type": "execute_result",
          "data": {
            "text/plain": [
              "Index(['age', 'had_cancer', 'income_in_k', 'credit_score',\n",
              "       'num_credit_sources', 'utilization_rate', 'gave_loan', 'Female', 'Male',\n",
              "       'Non-Binary', 'Survey Choices Do Not Accurately Reflect My Identity',\n",
              "       'AK', 'AL', 'AR', 'AZ', 'CA', 'CO', 'CT', 'DE', 'FL', 'GA', 'HI', 'IA',\n",
              "       'ID', 'IL', 'IN', 'KS', 'KY', 'LA', 'MA', 'MD', 'ME', 'MI', 'MN', 'MO',\n",
              "       'MS', 'MT', 'NC', 'ND', 'NE', 'NH', 'NJ', 'NM', 'NV', 'NY', 'OH', 'OK',\n",
              "       'OR', 'PA', 'RI', 'SC', 'SD', 'TN', 'TX', 'UT', 'VA', 'VT', 'WA', 'WI',\n",
              "       'WV', 'WY'],\n",
              "      dtype='object')"
            ]
          },
          "metadata": {},
          "execution_count": 29
        }
      ]
    },
    {
      "cell_type": "markdown",
      "source": [
        "## Setting up TTS for all models"
      ],
      "metadata": {
        "id": "fIv14Urab2dq"
      }
    },
    {
      "cell_type": "code",
      "source": [
        "\n",
        "\n",
        "\n",
        "# what K do I use??\n",
        "predictors = ['age', 'had_cancer', 'income_in_k', 'credit_score',\n",
        "       'num_credit_sources', 'utilization_rate', 'Female', 'Male',\n",
        "       'Non-Binary', 'Survey Choices Do Not Accurately Reflect My Identity',\n",
        "       'AK', 'AL', 'AR', 'AZ', 'CA', 'CO', 'CT', 'DE', 'FL', 'GA', 'HI', 'IA',\n",
        "       'ID', 'IL', 'IN', 'KS', 'KY', 'LA', 'MA', 'MD', 'ME', 'MI', 'MN', 'MO',\n",
        "       'MS', 'MT', 'NC', 'ND', 'NE', 'NH', 'NJ', 'NM', 'NV', 'NY', 'OH', 'OK',\n",
        "       'OR', 'PA', 'RI', 'SC', 'SD', 'TN', 'TX', 'UT', 'VA', 'VT', 'WA', 'WI',\n",
        "       'WV', 'WY']\n",
        "\n",
        "contin = [\"age\", \"income_in_k\", \"credit_score\", \"num_credit_sources\", \"utilization_rate\"]\n",
        "\n",
        "X = loan[predictors]\n",
        "y = loan[\"gave_loan\"]\n",
        "\n",
        "# split into training and test\n",
        "X_train, X_test, y_train, y_test = train_test_split(X,y, test_size = 0.2)\n",
        "\n"
      ],
      "metadata": {
        "id": "6ijpxnwtQLfd"
      },
      "execution_count": 30,
      "outputs": []
    },
    {
      "cell_type": "markdown",
      "source": [
        "## Logistic Regression Model"
      ],
      "metadata": {
        "id": "i6BjIwPrYvN9"
      }
    },
    {
      "cell_type": "code",
      "source": [
        "zscore = StandardScaler()\n",
        "zscore.fit(X_train)\n",
        "Xz_train = zscore.transform(X_train)\n",
        "Xz_test = zscore.transform(X_test)\n",
        "myLogit = LogisticRegression(penalty = \"none\")\n",
        "myLogit.fit(Xz_train,y_train)"
      ],
      "metadata": {
        "colab": {
          "base_uri": "https://localhost:8080/"
        },
        "id": "gtqpOfrDYygj",
        "outputId": "e7055866-caa8-4144-ccef-a5ea8ecf2b7d"
      },
      "execution_count": 31,
      "outputs": [
        {
          "output_type": "execute_result",
          "data": {
            "text/plain": [
              "LogisticRegression(penalty='none')"
            ]
          },
          "metadata": {},
          "execution_count": 31
        }
      ]
    },
    {
      "cell_type": "code",
      "source": [
        "predictedVals = myLogit.predict(Xz_test)\n",
        "accuracy_score(y_test,predictedVals)"
      ],
      "metadata": {
        "colab": {
          "base_uri": "https://localhost:8080/"
        },
        "id": "0Qlgi3DWY2VB",
        "outputId": "14d28982-5b88-43ed-b6c2-c7f6d157573a"
      },
      "execution_count": 32,
      "outputs": [
        {
          "output_type": "execute_result",
          "data": {
            "text/plain": [
              "0.7175"
            ]
          },
          "metadata": {},
          "execution_count": 32
        }
      ]
    },
    {
      "cell_type": "code",
      "source": [
        "predictedValsTrain = myLogit.predict(Xz_train)\n",
        "accuracy_score(y_train, predictedValsTrain)"
      ],
      "metadata": {
        "colab": {
          "base_uri": "https://localhost:8080/"
        },
        "id": "nxGGW8qYtvfl",
        "outputId": "d3a111cd-d924-4719-d3a6-de4ca1d4bb5f"
      },
      "execution_count": 33,
      "outputs": [
        {
          "output_type": "execute_result",
          "data": {
            "text/plain": [
              "0.739375"
            ]
          },
          "metadata": {},
          "execution_count": 33
        }
      ]
    },
    {
      "cell_type": "code",
      "source": [
        "plot_confusion_matrix(myLogit, Xz_test, y_test)"
      ],
      "metadata": {
        "colab": {
          "base_uri": "https://localhost:8080/",
          "height": 296
        },
        "id": "ISp54m0-Y7a1",
        "outputId": "e6542647-9475-4946-bbfd-806b454c358f"
      },
      "execution_count": 34,
      "outputs": [
        {
          "output_type": "execute_result",
          "data": {
            "text/plain": [
              "<sklearn.metrics._plot.confusion_matrix.ConfusionMatrixDisplay at 0x7f7c729c97d0>"
            ]
          },
          "metadata": {},
          "execution_count": 34
        },
        {
          "output_type": "display_data",
          "data": {
            "text/plain": [
              "<Figure size 432x288 with 2 Axes>"
            ],
            "image/png": "[encoded data removed]"
          },
          "metadata": {
            "needs_background": "light"
          }
        }
      ]
    },
    {
      "cell_type": "code",
      "source": [
        "plot_confusion_matrix(myLogit, Xz_train, y_train)"
      ],
      "metadata": {
        "colab": {
          "base_uri": "https://localhost:8080/",
          "height": 296
        },
        "id": "R93Z2T4Oupis",
        "outputId": "49cbe0b4-2faf-42c6-a6f4-ad9f08520e5e"
      },
      "execution_count": 35,
      "outputs": [
        {
          "output_type": "execute_result",
          "data": {
            "text/plain": [
              "<sklearn.metrics._plot.confusion_matrix.ConfusionMatrixDisplay at 0x7f7c77d1e150>"
            ]
          },
          "metadata": {},
          "execution_count": 35
        },
        {
          "output_type": "display_data",
          "data": {
            "text/plain": [
              "<Figure size 432x288 with 2 Axes>"
            ],
            "image/png": "[encoded data removed]"
          },
          "metadata": {
            "needs_background": "light"
          }
        }
      ]
    },
    {
      "cell_type": "markdown",
      "source": [
        "## KNN Model"
      ],
      "metadata": {
        "id": "v26E-t2Kbvzj"
      }
    },
    {
      "cell_type": "code",
      "source": [
        "# create model\n",
        "knn2 = KNeighborsClassifier()\n",
        "\n",
        "# create z score object\n",
        "z = make_column_transformer((StandardScaler(), contin))\n",
        "\n",
        "# make pipeline\n",
        "pipe = make_pipeline(z, knn2)\n",
        "print(pipe.get_params().keys())\n",
        "\n",
        "# choose potential values of k\n",
        "ks = {\"kneighborsclassifier__n_neighbors\": range(1,30)}\n",
        "\n",
        "# use grid search to find best parameters\n",
        "grid = GridSearchCV(pipe, ks, scoring = \"accuracy\", cv = 5, refit = True)\n",
        "\n",
        "knnmod = grid.fit(X_train[contin], y_train)\n",
        "\n",
        "y_pred_test = knnmod.predict(X_test)"
      ],
      "metadata": {
        "colab": {
          "base_uri": "https://localhost:8080/"
        },
        "id": "y3qk6hlma6Zq",
        "outputId": "291e65bb-213b-4153-f758-718349e1d26c"
      },
      "execution_count": 36,
      "outputs": [
        {
          "output_type": "stream",
          "name": "stdout",
          "text": [
            "dict_keys(['memory', 'steps', 'verbose', 'columntransformer', 'kneighborsclassifier', 'columntransformer__n_jobs', 'columntransformer__remainder', 'columntransformer__sparse_threshold', 'columntransformer__transformer_weights', 'columntransformer__transformers', 'columntransformer__verbose', 'columntransformer__verbose_feature_names_out', 'columntransformer__standardscaler', 'columntransformer__standardscaler__copy', 'columntransformer__standardscaler__with_mean', 'columntransformer__standardscaler__with_std', 'kneighborsclassifier__algorithm', 'kneighborsclassifier__leaf_size', 'kneighborsclassifier__metric', 'kneighborsclassifier__metric_params', 'kneighborsclassifier__n_jobs', 'kneighborsclassifier__n_neighbors', 'kneighborsclassifier__p', 'kneighborsclassifier__weights'])\n"
          ]
        }
      ]
    },
    {
      "cell_type": "code",
      "source": [
        "print(knnmod.best_estimator_.get_params()[\"kneighborsclassifier__n_neighbors\"])"
      ],
      "metadata": {
        "colab": {
          "base_uri": "https://localhost:8080/"
        },
        "id": "zxXWSuELYjkw",
        "outputId": "323d8063-2539-45e3-c5ac-ee89853eac93"
      },
      "execution_count": 37,
      "outputs": [
        {
          "output_type": "stream",
          "name": "stdout",
          "text": [
            "28\n"
          ]
        }
      ]
    },
    {
      "cell_type": "code",
      "source": [
        "knnmod.best_score_"
      ],
      "metadata": {
        "colab": {
          "base_uri": "https://localhost:8080/"
        },
        "id": "lfB5ZbGka816",
        "outputId": "e9df6699-bef7-48d8-9134-36b8b1dc62c6"
      },
      "execution_count": 38,
      "outputs": [
        {
          "output_type": "execute_result",
          "data": {
            "text/plain": [
              "0.7353125"
            ]
          },
          "metadata": {},
          "execution_count": 38
        }
      ]
    },
    {
      "cell_type": "code",
      "source": [
        "knnmod.score(X_train,y_train)"
      ],
      "metadata": {
        "colab": {
          "base_uri": "https://localhost:8080/"
        },
        "id": "66_mbeasweOI",
        "outputId": "063ec50f-863a-488a-d147-6f0bd0fbc024"
      },
      "execution_count": 39,
      "outputs": [
        {
          "output_type": "execute_result",
          "data": {
            "text/plain": [
              "0.7415625"
            ]
          },
          "metadata": {},
          "execution_count": 39
        }
      ]
    },
    {
      "cell_type": "code",
      "source": [
        "plot_confusion_matrix(knnmod, X_test, y_test)"
      ],
      "metadata": {
        "colab": {
          "base_uri": "https://localhost:8080/",
          "height": 296
        },
        "id": "Z9Nni0ayUc5Q",
        "outputId": "60d8f291-e898-4de0-ddfd-faa096510589"
      },
      "execution_count": 40,
      "outputs": [
        {
          "output_type": "execute_result",
          "data": {
            "text/plain": [
              "<sklearn.metrics._plot.confusion_matrix.ConfusionMatrixDisplay at 0x7f7c753fbcd0>"
            ]
          },
          "metadata": {},
          "execution_count": 40
        },
        {
          "output_type": "display_data",
          "data": {
            "text/plain": [
              "<Figure size 432x288 with 2 Axes>"
            ],
            "image/png": "[encoded data removed]"
          },
          "metadata": {
            "needs_background": "light"
          }
        }
      ]
    },
    {
      "cell_type": "code",
      "source": [
        "plot_confusion_matrix(knnmod, X_train, y_train)"
      ],
      "metadata": {
        "colab": {
          "base_uri": "https://localhost:8080/",
          "height": 296
        },
        "id": "9Q8xmu0eufiE",
        "outputId": "052ad33b-11bc-4209-c8f4-a23c7469a5f0"
      },
      "execution_count": 41,
      "outputs": [
        {
          "output_type": "execute_result",
          "data": {
            "text/plain": [
              "<sklearn.metrics._plot.confusion_matrix.ConfusionMatrixDisplay at 0x7f7c72678190>"
            ]
          },
          "metadata": {},
          "execution_count": 41
        },
        {
          "output_type": "display_data",
          "data": {
            "text/plain": [
              "<Figure size 432x288 with 2 Axes>"
            ],
            "image/png": "[encoded data removed]"
          },
          "metadata": {
            "needs_background": "light"
          }
        }
      ]
    },
    {
      "cell_type": "markdown",
      "source": [
        "## Decision Tree Model"
      ],
      "metadata": {
        "id": "LJHjq39tbsso"
      }
    },
    {
      "cell_type": "code",
      "source": [
        "tree = DecisionTreeClassifier()\n",
        "\n",
        "# make pipe\n",
        "zTree = make_column_transformer((StandardScaler(), contin))\n",
        "\n",
        "pipeTree = make_pipeline(zTree,tree)\n",
        "print(pipeTree.get_params().keys())\n",
        "\n",
        "\n",
        "# choose potential values of k\n",
        "depths = {\"decisiontreeclassifier__max_depth\": range(1,9)}\n",
        "\n",
        "# use grid search to find best parameters\n",
        "gridTree = GridSearchCV(pipeTree,depths, scoring = \"accuracy\", cv = 5, refit = True)\n",
        "\n",
        "DTmod = gridTree.fit(X_train, y_train)"
      ],
      "metadata": {
        "colab": {
          "base_uri": "https://localhost:8080/"
        },
        "id": "UIYfd3snapiq",
        "outputId": "c82fc125-d493-4274-cbfa-9c210244c99b"
      },
      "execution_count": 42,
      "outputs": [
        {
          "output_type": "stream",
          "name": "stdout",
          "text": [
            "dict_keys(['memory', 'steps', 'verbose', 'columntransformer', 'decisiontreeclassifier', 'columntransformer__n_jobs', 'columntransformer__remainder', 'columntransformer__sparse_threshold', 'columntransformer__transformer_weights', 'columntransformer__transformers', 'columntransformer__verbose', 'columntransformer__verbose_feature_names_out', 'columntransformer__standardscaler', 'columntransformer__standardscaler__copy', 'columntransformer__standardscaler__with_mean', 'columntransformer__standardscaler__with_std', 'decisiontreeclassifier__ccp_alpha', 'decisiontreeclassifier__class_weight', 'decisiontreeclassifier__criterion', 'decisiontreeclassifier__max_depth', 'decisiontreeclassifier__max_features', 'decisiontreeclassifier__max_leaf_nodes', 'decisiontreeclassifier__min_impurity_decrease', 'decisiontreeclassifier__min_samples_leaf', 'decisiontreeclassifier__min_samples_split', 'decisiontreeclassifier__min_weight_fraction_leaf', 'decisiontreeclassifier__random_state', 'decisiontreeclassifier__splitter'])\n"
          ]
        }
      ]
    },
    {
      "cell_type": "code",
      "source": [
        "DTmod.best_score_"
      ],
      "metadata": {
        "colab": {
          "base_uri": "https://localhost:8080/"
        },
        "id": "XlDGzk5xZR6P",
        "outputId": "ccc7f189-10a1-47a9-f3b7-405a8dcc53d8"
      },
      "execution_count": 43,
      "outputs": [
        {
          "output_type": "execute_result",
          "data": {
            "text/plain": [
              "0.7365625"
            ]
          },
          "metadata": {},
          "execution_count": 43
        }
      ]
    },
    {
      "cell_type": "code",
      "source": [
        "DTmod.score(X_train,y_train)"
      ],
      "metadata": {
        "colab": {
          "base_uri": "https://localhost:8080/"
        },
        "id": "x2OFxx5Wu_5m",
        "outputId": "ef9d51f0-f81e-45cc-bdb5-301322832dd0"
      },
      "execution_count": 44,
      "outputs": [
        {
          "output_type": "execute_result",
          "data": {
            "text/plain": [
              "0.7365625"
            ]
          },
          "metadata": {},
          "execution_count": 44
        }
      ]
    },
    {
      "cell_type": "code",
      "source": [
        "plot_confusion_matrix(DTmod, X_test, y_test)"
      ],
      "metadata": {
        "colab": {
          "base_uri": "https://localhost:8080/",
          "height": 296
        },
        "id": "MfK_lAYZZSi0",
        "outputId": "e7d70f5c-dfca-4142-9bfc-9cfacadb4b43"
      },
      "execution_count": 45,
      "outputs": [
        {
          "output_type": "execute_result",
          "data": {
            "text/plain": [
              "<sklearn.metrics._plot.confusion_matrix.ConfusionMatrixDisplay at 0x7f7c725fbd50>"
            ]
          },
          "metadata": {},
          "execution_count": 45
        },
        {
          "output_type": "display_data",
          "data": {
            "text/plain": [
              "<Figure size 432x288 with 2 Axes>"
            ],
            "image/png": "[encoded data removed]"
          },
          "metadata": {
            "needs_background": "light"
          }
        }
      ]
    },
    {
      "cell_type": "code",
      "source": [
        "plot_confusion_matrix(DTmod, X_train, y_train)"
      ],
      "metadata": {
        "colab": {
          "base_uri": "https://localhost:8080/",
          "height": 296
        },
        "id": "YKn_R2hnu32d",
        "outputId": "d524b769-fc4e-4573-82b4-40a91c9ca078"
      },
      "execution_count": 46,
      "outputs": [
        {
          "output_type": "execute_result",
          "data": {
            "text/plain": [
              "<sklearn.metrics._plot.confusion_matrix.ConfusionMatrixDisplay at 0x7f7c72781590>"
            ]
          },
          "metadata": {},
          "execution_count": 46
        },
        {
          "output_type": "display_data",
          "data": {
            "text/plain": [
              "<Figure size 432x288 with 2 Axes>"
            ],
            "image/png": "[encoded data removed]"
          },
          "metadata": {
            "needs_background": "light"
          }
        }
      ]
    },
    {
      "cell_type": "markdown",
      "source": [
        "# Part 2"
      ],
      "metadata": {
        "id": "_TzqO-6MUwRL"
      }
    },
    {
      "cell_type": "markdown",
      "source": [
        "## A."
      ],
      "metadata": {
        "id": "gO9lT2mrU0aA"
      }
    },
    {
      "cell_type": "markdown",
      "source": [
        "None of the models appear to be overfit onto the training data because there is no significant discrepancy between the accuracy score on the training data and that score on the testing data. So we don't have to worry about any models being overfit. All of the models have an accuracy over 70% which means they all perform relatively well. The model that has the highest accuracy score is the decision tree, however from looking at the confusion matrices it is not the best model to use. This is simply because the model never predicts an individual will get a loan from the input data. This means that it will never accurately predict that an individual should receive a loan, meaning no true positives. So that leaves the KNN and logistic regression models to be the best. The KNN model has a higher accuracy score between them two, which means that the KNN model performs better. I can conclude that the KNN model is the best model of these 3 to use on this data."
      ],
      "metadata": {
        "id": "aIAsn5GBvqnq"
      }
    },
    {
      "cell_type": "markdown",
      "source": [
        "## B."
      ],
      "metadata": {
        "id": "zA4WqS68ziXu"
      }
    },
    {
      "cell_type": "code",
      "source": [
        "male = (loan.loc[loan[\"Male\"] == 1])\n",
        "female = (loan.loc[loan[\"Female\"] == 1])\n",
        "nonbin = (loan.loc[loan[\"Non-Binary\"] == 1])\n",
        "nomatch = (loan.loc[loan[\"Survey Choices Do Not Accurately Reflect My Identity\"] == 1])\n",
        "\n",
        "maleX = male[predictors]\n",
        "maleX = zscore.transform(maleX)\n",
        "maleacc = accuracy_score(male[\"gave_loan\"], myLogit.predict(maleX))\n",
        "#print(myLogit.predict(maleX))\n",
        "\n",
        "femaleX = female[predictors]\n",
        "femaleX = zscore.transform(femaleX)\n",
        "femaleacc = accuracy_score(female[\"gave_loan\"], myLogit.predict(femaleX))\n",
        "\n",
        "nonbinX = nonbin[predictors]\n",
        "nonbinX = zscore.transform(nonbinX)\n",
        "nonbinacc = accuracy_score(nonbin[\"gave_loan\"], myLogit.predict(nonbinX))\n",
        "\n",
        "nomatchX = nomatch[predictors]\n",
        "nomatchX = zscore.transform(nomatchX)\n",
        "nomatchacc = accuracy_score(nomatch[\"gave_loan\"], myLogit.predict(nomatchX))\n",
        "\n",
        "toDFgenders = [[\"Male\", maleacc], [\"Female\", femaleacc], [\"Non-Binary\", nonbinacc], [\"No Match\", nomatchacc]]\n",
        "genders = pd.DataFrame(toDFgenders, columns = [\"Gender\", \"Accuracy score\"])\n",
        "\n",
        "\n",
        "(ggplot(genders, aes(x = \"Gender\", y = \"Accuracy score\", fill = \"Gender\", label = \"Accuracy score\")) + geom_bar(stat = \"identity\")  + theme_minimal() + xlab(\"\") + theme(legend_position = \"none\") + ggtitle(\"Logistic Model Accuracy Scores for Different Genders\"))"
      ],
      "metadata": {
        "colab": {
          "base_uri": "https://localhost:8080/",
          "height": 482
        },
        "id": "xmy0CaptUzim",
        "outputId": "3b450ae9-f82d-4e48-aa04-a1133be2e647"
      },
      "execution_count": 58,
      "outputs": [
        {
          "output_type": "display_data",
          "data": {
            "text/plain": [
              "<Figure size 640x480 with 1 Axes>"
            ],
            "image/png": "[encoded data removed]"
          },
          "metadata": {
            "needs_background": "light"
          }
        },
        {
          "output_type": "execute_result",
          "data": {
            "text/plain": [
              "<ggplot: (8760779817961)>"
            ]
          },
          "metadata": {},
          "execution_count": 58
        }
      ]
    },
    {
      "cell_type": "code",
      "source": [
        "maleX = male[predictors]\n",
        "maleacc = accuracy_score(male[\"gave_loan\"], knnmod.predict(maleX))\n",
        "\n",
        "femaleX = female[predictors]\n",
        "femaleacc = accuracy_score(female[\"gave_loan\"], knnmod.predict(femaleX))\n",
        "\n",
        "nonbinX = nonbin[predictors]\n",
        "nonbinacc = accuracy_score(nonbin[\"gave_loan\"], knnmod.predict(nonbinX))\n",
        "\n",
        "nomatchX = nomatch[predictors]\n",
        "nomatchacc = accuracy_score(nomatch[\"gave_loan\"], knnmod.predict(nomatchX))\n",
        "\n",
        "toDFgenders = [[\"Male\", maleacc], [\"Female\", femaleacc], [\"Non-Binary\", nonbinacc], [\"No Match\", nomatchacc]]\n",
        "genders = pd.DataFrame(toDFgenders, columns = [\"Gender\", \"Accuracy score\"])\n",
        "\n",
        "\n",
        "(ggplot(genders, aes(x = \"Gender\", y = \"Accuracy score\", fill = \"Gender\", label = \"Accuracy score\")) + geom_bar(stat = \"identity\")  + theme_minimal() + xlab(\"\") + theme(legend_position = \"none\") + ggtitle(\"KNN Model Accuracy Scores for Different Genders\"))"
      ],
      "metadata": {
        "colab": {
          "base_uri": "https://localhost:8080/",
          "height": 482
        },
        "id": "yK1kR2ta3Ads",
        "outputId": "c70d8bf7-1e3c-49c2-8dd9-cb717537b59f"
      },
      "execution_count": 48,
      "outputs": [
        {
          "output_type": "display_data",
          "data": {
            "text/plain": [
              "<Figure size 640x480 with 1 Axes>"
            ],
            "image/png": "[encoded data removed]"
          },
          "metadata": {
            "needs_background": "light"
          }
        },
        {
          "output_type": "execute_result",
          "data": {
            "text/plain": [
              "<ggplot: (8760779861273)>"
            ]
          },
          "metadata": {},
          "execution_count": 48
        }
      ]
    },
    {
      "cell_type": "code",
      "source": [
        "maleX = male[predictors]\n",
        "maleacc = accuracy_score(male[\"gave_loan\"], DTmod.predict(maleX))\n",
        "\n",
        "femaleX = female[predictors]\n",
        "femaleacc = accuracy_score(female[\"gave_loan\"], DTmod.predict(femaleX))\n",
        "\n",
        "nonbinX = nonbin[predictors]\n",
        "nonbinacc = accuracy_score(nonbin[\"gave_loan\"], DTmod.predict(nonbinX))\n",
        "\n",
        "nomatchX = nomatch[predictors]\n",
        "nomatchacc = accuracy_score(nomatch[\"gave_loan\"], DTmod.predict(nomatchX))\n",
        "\n",
        "toDFgenders = [[\"Male\", maleacc], [\"Female\", femaleacc], [\"Non-Binary\", nonbinacc], [\"No Match\", nomatchacc]]\n",
        "genders = pd.DataFrame(toDFgenders, columns = [\"Gender\", \"Accuracy score\"])\n",
        "\n",
        "\n",
        "(ggplot(genders, aes(x = \"Gender\", y = \"Accuracy score\", fill = \"Gender\", label = \"Accuracy score\")) + geom_bar(stat = \"identity\")  + theme_minimal() + xlab(\"\") + theme(legend_position = \"none\") + ggtitle(\"Decision Tree Model Accuracy Scores for Different Genders\"))"
      ],
      "metadata": {
        "colab": {
          "base_uri": "https://localhost:8080/",
          "height": 482
        },
        "id": "7hio5-nX3Pkm",
        "outputId": "2ec078e0-7117-4c21-f42c-f8fe4649acda"
      },
      "execution_count": 49,
      "outputs": [
        {
          "output_type": "display_data",
          "data": {
            "text/plain": [
              "<Figure size 640x480 with 1 Axes>"
            ],
            "image/png": "[encoded data removed]"
          },
          "metadata": {
            "needs_background": "light"
          }
        },
        {
          "output_type": "execute_result",
          "data": {
            "text/plain": [
              "<ggplot: (8760779758077)>"
            ]
          },
          "metadata": {},
          "execution_count": 49
        }
      ]
    },
    {
      "cell_type": "markdown",
      "source": [
        "There seems to be a rather slight difference in each model's accuracy for different genders. It is evident that all models best predict the outcome for those with a gender that the survey doesn't match. This is seen through every model having a higher accuracy score for the data of individuals with no match specified for gender. It is also apparent that each model predicts the outcome for males with the least accuracy. This all means that the model is biased in accurately predicting whether a person with a gender that doesn't match the options on the survey will get a loan or not."
      ],
      "metadata": {
        "id": "13WnfRhs6g3N"
      }
    },
    {
      "cell_type": "markdown",
      "source": [
        "## C."
      ],
      "metadata": {
        "id": "-QP3ema9Hrve"
      }
    },
    {
      "cell_type": "markdown",
      "source": [
        "The decision tree model is definitely better at predicting who doesn't get loans because it never makes a positive prediction. This means that it will never make a true positive prediction. The implications of this are that people that deserve loans will never get the loan that they want. This leads to the bank lending the loans out not generating as much money because they never get to lend the loans out. This model could also lead to the economy stagnating if it were implemented widespread with many banks using this model. \n",
        "\n",
        "The other two models, KNN and Logistic, both predict individuals not receiving a loan better than when an individual does receive a node. This can be seen through the confusion matrices. For example, with the logistic model there are a total of 14 instances of predicting a positive, getting a loan. It predicted 6 true positives, correctly predicted getting a loan 6 times. This means that when it predicted a positive, it was correct 6/14 times, 42.9% of the time. This model predicted a negative, not getting a loan, 786 times. It predicted 568 true negatives, correctly predicting not getting a loan 568 times. This means that when it predicted a negative, it was correct 568/786 times, 72.3% of the time. This all means that the model is better at predicting not getting a loan.\n",
        "\n",
        "It is a similar story with the KNN model there are a total of 19 instances of predicting a positive. It predicted 10 true positives. This means that when it predicted a positive, it was correct 10/19 times, 52.6% of the time. This model predicted a negative 781 times. It predicted 567 true negatives. This means that when it predicted a negative, it was correct 567/781 times, 72.6% of the time. This all means that the model is better at predicting not getting a loan.\n",
        "\n",
        "The implications for these models is similar with the decision tree's implications. It leads to less people getting loans when they should, which causes the bank to lose out on profits as well as the people applying for loans not receiving the money that they need."
      ],
      "metadata": {
        "id": "HX4wGagbHtNt"
      }
    }
  ],
  "metadata": {
    "hide_input": false,
    "kernelspec": {
      "display_name": "Python 3",
      "language": "python",
      "name": "python3"
    },
    "language_info": {
      "codemirror_mode": {
        "name": "ipython",
        "version": 3
      },
      "file_extension": ".py",
      "mimetype": "text/x-python",
      "name": "python",
      "nbconvert_exporter": "python",
      "pygments_lexer": "ipython3",
      "version": "3.8.1"
    },
    "toc": {
      "base_numbering": 1,
      "nav_menu": {},
      "number_sections": true,
      "sideBar": true,
      "skip_h1_title": false,
      "title_cell": "Table of Contents",
      "title_sidebar": "Contents",
      "toc_cell": false,
      "toc_position": {},
      "toc_section_display": true,
      "toc_window_display": false
    },
    "colab": {
      "name": "Copy of HW2_SP22.ipynb",
      "provenance": [],
      "collapsed_sections": []
    }
  },
  "nbformat": 4,
  "nbformat_minor": 0
}